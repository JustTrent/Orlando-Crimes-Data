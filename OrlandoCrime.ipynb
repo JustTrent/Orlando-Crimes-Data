{
 "cells": [
  {
   "cell_type": "code",
   "execution_count": null,
   "metadata": {},
   "outputs": [],
   "source": [
    "'''\n",
    "Created: Trent Nguyen just.trent.n@gmail.com\n",
    "\n",
    "Data analyst on crimes in Orlando city limit.  Data obtained from Orlando Police Department.\n",
    "'''\n",
    "import gmaps\n",
    "import numpy as np\n",
    "import pandas as pd\n",
    "import matplotlib.pyplot as plt\n",
    "import calendar\n"
   ]
  },
  {
   "cell_type": "code",
   "execution_count": null,
   "metadata": {},
   "outputs": [],
   "source": [
    "# !!! must have  google maps api key\n",
    "gmaps.configure(api_key='')\n"
   ]
  },
  {
   "cell_type": "code",
   "execution_count": null,
   "metadata": {},
   "outputs": [],
   "source": [
    "# https://data.cityoforlando.net/Orlando-Police/OPD-Crimes/4y9m-jbmz\n",
    "\n",
    "# This dataset comes from the Orlando Police Department records management system. \n",
    "# It includes all Part 1 and Part 2 crimes as defined by the FBI’s Uniform Crime Reporting standards. \n",
    "# When multiple crimes are committed the highest level of crime is what is shown. \n",
    "# The data includes only Open and Closed cases and does not include informational cases without arrests.\n",
    "# This data excludes crimes where the victim or offender data is or could be legally protected. \n",
    "# Those include:\n",
    "\n",
    "# Domestic Violence\n",
    "# Elderly Abuse\n",
    "# Exempt from Public Record\n",
    "# Witness Protection\n",
    "# Cases where the offender was charged with the following case codes/state statutes:\n",
    "# Sexual Battery\n",
    "# Child Abuse\n",
    "# Aggravated Stalking/Harassment\n",
    "# Obscene or harassing telephone calls\n",
    "# Aggravated Battery\n",
    "# Domestic Violence Injunctions\n",
    "# Lewd,Lascivious or Indecent Assault upon or in the presence of a child\n",
    "# Elder Abuse\n",
    "# Baker Act\n",
    "# Obscenity\n",
    "# Forcible Rape\n",
    "# Forcible Sodomy\n",
    "# Forcible Fondling\n",
    "# Cases where the a juvenile is arrested \n",
    "\n",
    "data_orig = pd.read_csv('OPD_Crimes.csv')\n",
    "data_orig.head()"
   ]
  },
  {
   "cell_type": "code",
   "execution_count": null,
   "metadata": {},
   "outputs": [],
   "source": []
  },
  {
   "cell_type": "code",
   "execution_count": null,
   "metadata": {},
   "outputs": [],
   "source": []
  },
  {
   "cell_type": "markdown",
   "metadata": {},
   "source": [
    "## Data Cleaning"
   ]
  },
  {
   "cell_type": "code",
   "execution_count": null,
   "metadata": {},
   "outputs": [],
   "source": [
    "# copy original data frame so cleaning can be done\n",
    "data1 = data_orig.copy()"
   ]
  },
  {
   "cell_type": "code",
   "execution_count": null,
   "metadata": {
    "scrolled": true
   },
   "outputs": [],
   "source": [
    "# convert str 'Case Date Time' to Timestamp type\n",
    "# list comprehension but still slow; over 2 minutes, \n",
    "# wonder if there's faster ways to convert to Timestamp\n",
    "#data1['Case Date Time'] = pd.to_datetime(data1['Case Date Time'])\n",
    "data1['Case Date Time'] = [pd.to_datetime(x) for x in data1['Case Date Time']]\n",
    "data1.head()"
   ]
  },
  {
   "cell_type": "code",
   "execution_count": null,
   "metadata": {},
   "outputs": [],
   "source": [
    "# remove parenthensis '()' from Location str\n",
    "data1['Location'].replace('[\\(\\)]','', regex=True, inplace=True)\n",
    "\n",
    "data1.head()"
   ]
  },
  {
   "cell_type": "code",
   "execution_count": null,
   "metadata": {},
   "outputs": [],
   "source": [
    "# drop any rows that contains NaN; mostly in the Location column\n",
    "data1.dropna(inplace=True)\n",
    "data1.info()"
   ]
  },
  {
   "cell_type": "code",
   "execution_count": null,
   "metadata": {},
   "outputs": [],
   "source": []
  },
  {
   "cell_type": "code",
   "execution_count": null,
   "metadata": {},
   "outputs": [],
   "source": [
    "# convert the str 'Location' coordinate to float64\n",
    "location =[ (np.float64(lat), np.float64(long)) for (lat, long) in data1['Location'].str.split(',')]\n",
    "data1['Location'] = location\n",
    "data1.head()\n"
   ]
  },
  {
   "cell_type": "code",
   "execution_count": null,
   "metadata": {},
   "outputs": [],
   "source": []
  },
  {
   "cell_type": "code",
   "execution_count": null,
   "metadata": {},
   "outputs": [],
   "source": [
    "#data1['Case Offense Category'].value_counts()"
   ]
  },
  {
   "cell_type": "markdown",
   "metadata": {},
   "source": [
    "## Heatmap with interactive years slider\n",
    "#### Use location and date data to draw heatmap with slider for years"
   ]
  },
  {
   "cell_type": "code",
   "execution_count": null,
   "metadata": {},
   "outputs": [],
   "source": [
    "# Just need the Date and Location for the heatmap\n",
    "dataForHeatMap = data1[['Case Date Time', 'Location']]\n",
    "\n",
    "dataForHeatMap = dataForHeatMap.rename(columns={'Case Date Time': 'Date'})\n",
    "dataForHeatMap.head()\n"
   ]
  },
  {
   "cell_type": "code",
   "execution_count": null,
   "metadata": {},
   "outputs": [],
   "source": [
    "from HeatMap import clHeatMap\n",
    "from ipywidgets.embed import embed_minimal_html"
   ]
  },
  {
   "cell_type": "code",
   "execution_count": null,
   "metadata": {},
   "outputs": [],
   "source": [
    "interactiveHeatMap = clHeatMap(dataForHeatMap, 'Date', 'Location')"
   ]
  },
  {
   "cell_type": "code",
   "execution_count": null,
   "metadata": {},
   "outputs": [],
   "source": [
    "interactiveHeatMap.Render()\n",
    "\n",
    "# embed_minimal_html('OrlHeatMap.html', views=[aaa])"
   ]
  },
  {
   "cell_type": "code",
   "execution_count": null,
   "metadata": {},
   "outputs": [],
   "source": []
  },
  {
   "cell_type": "markdown",
   "metadata": {},
   "source": [
    "# STOP HERE FOR NOW ====================================="
   ]
  },
  {
   "cell_type": "markdown",
   "metadata": {},
   "source": [
    "### Get Data on Year 2017"
   ]
  },
  {
   "cell_type": "code",
   "execution_count": null,
   "metadata": {},
   "outputs": [],
   "source": [
    "# get data for yr 2017 for now\n",
    "bYear2017 =  data1['Case Date Time'].dt.year == 2017\n",
    "\n",
    "# checked the Location data for 'NaN' (null); \n",
    "# can't rely on 'Status' column as it might not be accurate\n",
    "bLoc = data1['Location'].isnull() == False\n",
    "\n",
    "# get data for yr 2017 and where location data is available\n",
    "data2017 = data1[bYear2017 & bLoc]"
   ]
  },
  {
   "cell_type": "code",
   "execution_count": null,
   "metadata": {},
   "outputs": [],
   "source": [
    "data2017.info()"
   ]
  },
  {
   "cell_type": "code",
   "execution_count": null,
   "metadata": {},
   "outputs": [],
   "source": [
    "data2017.head()"
   ]
  },
  {
   "cell_type": "code",
   "execution_count": null,
   "metadata": {},
   "outputs": [],
   "source": []
  },
  {
   "cell_type": "code",
   "execution_count": null,
   "metadata": {},
   "outputs": [],
   "source": []
  },
  {
   "cell_type": "code",
   "execution_count": null,
   "metadata": {},
   "outputs": [],
   "source": []
  },
  {
   "cell_type": "code",
   "execution_count": null,
   "metadata": {},
   "outputs": [],
   "source": []
  },
  {
   "cell_type": "code",
   "execution_count": null,
   "metadata": {},
   "outputs": [],
   "source": []
  },
  {
   "cell_type": "code",
   "execution_count": null,
   "metadata": {},
   "outputs": [],
   "source": []
  },
  {
   "cell_type": "code",
   "execution_count": null,
   "metadata": {},
   "outputs": [],
   "source": []
  },
  {
   "cell_type": "markdown",
   "metadata": {},
   "source": [
    "### Functions"
   ]
  },
  {
   "cell_type": "code",
   "execution_count": null,
   "metadata": {},
   "outputs": [],
   "source": [
    "def DatFrameCat(df: pd.DataFrame, col_name: str, values_nm: [str] ) -> pd.DataFrame:\n",
    "    '''\n",
    "    Return a data frame based on search of values name on a particular column.\n",
    "    df: pass in data frame\n",
    "    col_name: column name\n",
    "    values_nm: values list use to search on column name\n",
    "    '''    \n",
    "    bSelect = df[col_name].isin(values_nm)\n",
    "    ret = df[bSelect]\n",
    "    \n",
    "    return ret\n",
    "\n"
   ]
  },
  {
   "cell_type": "code",
   "execution_count": null,
   "metadata": {},
   "outputs": [],
   "source": [
    "def DrawHeatMap(layer_location) -> gmaps.figure:\n",
    "    try:\n",
    "        heatmap = gmaps.figure()\n",
    "        heatlayer = gmaps.heatmap_layer(layer_location)\n",
    "        heatmap.add_layer(heatlayer)\n",
    "        return heatmap\n",
    "    except:\n",
    "        pass"
   ]
  },
  {
   "cell_type": "code",
   "execution_count": null,
   "metadata": {},
   "outputs": [],
   "source": []
  },
  {
   "cell_type": "markdown",
   "metadata": {},
   "source": [
    "### Categorize crime types"
   ]
  },
  {
   "cell_type": "code",
   "execution_count": null,
   "metadata": {},
   "outputs": [],
   "source": [
    "# Larceny = 'Theft','Burglary','Robbery'\n",
    "Larceny = DatFrameCat(data2017, 'Case Offense Category',['Theft', 'Burglary', 'Robbery'] )\n",
    "Larceny['Case Offense Category'].value_counts()"
   ]
  },
  {
   "cell_type": "code",
   "execution_count": null,
   "metadata": {},
   "outputs": [],
   "source": [
    "# Assault\n",
    "Assault = DatFrameCat(data2017, 'Case Offense Category',['Assault'])\n",
    "Assault['Case Offense Category'].value_counts()\n"
   ]
  },
  {
   "cell_type": "code",
   "execution_count": null,
   "metadata": {},
   "outputs": [],
   "source": [
    "# Narcotics\n",
    "Narcotics = DatFrameCat(data2017, 'Case Offense Category',['Narcotics'])\n",
    "Narcotics['Case Offense Category'].value_counts()\n"
   ]
  },
  {
   "cell_type": "code",
   "execution_count": null,
   "metadata": {},
   "outputs": [],
   "source": [
    "# Fraud = 'Fraud', 'Embezzlement'\n",
    "Frauds = DatFrameCat(data2017, 'Case Offense Category',['Fraud', 'Embezzlement', 'Bribery'])\n",
    "Frauds['Case Offense Category'].value_counts()\n"
   ]
  },
  {
   "cell_type": "code",
   "execution_count": null,
   "metadata": {},
   "outputs": [],
   "source": [
    "# Vehicle Theft\n",
    "VThefts  = DatFrameCat(data2017, 'Case Offense Category',['Vehicle Theft'])\n",
    "VThefts['Case Offense Category'].value_counts()\n"
   ]
  },
  {
   "cell_type": "code",
   "execution_count": null,
   "metadata": {},
   "outputs": [],
   "source": [
    "# Homicide\n",
    "Homicide  = DatFrameCat(data2017, 'Case Offense Category',['Homicide'])\n",
    "Homicide['Case Offense Category'].value_counts()\n",
    "\n"
   ]
  },
  {
   "cell_type": "code",
   "execution_count": null,
   "metadata": {},
   "outputs": [],
   "source": [
    "# Arson\n",
    "Arson  = DatFrameCat(data2017, 'Case Offense Category',['Arson'])\n",
    "Arson['Case Offense Category'].value_counts()\n"
   ]
  },
  {
   "cell_type": "code",
   "execution_count": null,
   "metadata": {},
   "outputs": [],
   "source": [
    "# Kidnapping\n",
    "Kidnapping  = DatFrameCat(data2017, 'Case Offense Category',['Kidnapping'])\n",
    "Kidnapping['Case Offense Category'].value_counts()\n",
    "\n"
   ]
  },
  {
   "cell_type": "code",
   "execution_count": null,
   "metadata": {},
   "outputs": [],
   "source": []
  },
  {
   "cell_type": "code",
   "execution_count": null,
   "metadata": {},
   "outputs": [],
   "source": []
  },
  {
   "cell_type": "code",
   "execution_count": null,
   "metadata": {},
   "outputs": [],
   "source": [
    "# map1 = gmaps.figure()\n",
    "# layer1 = gmaps.symbol_layer(Larceny['GPS-Location'], fill_color='#7FFF00', stroke_color='#7FFF00')\n",
    "# layer2 = gmaps.symbol_layer(Assault['GPS-Location'], fill_color='#00FFFF', stroke_color='#00FFFF')\n",
    "# layer3 = gmaps.symbol_layer(Narcotics['GPS-Location'], fill_color='#00008B', stroke_color='#00008B')\n",
    "# layer4 = gmaps.symbol_layer(Fraud['GPS-Location'], fill_color='#006400', stroke_color='#006400')\n",
    "\n",
    "# map1.add_layer(layer1)\n",
    "# map1.add_layer(layer2)\n",
    "# map1.add_layer(layer3)\n",
    "# map1.add_layer(layer4)\n",
    "\n",
    "# map1"
   ]
  },
  {
   "cell_type": "markdown",
   "metadata": {},
   "source": [
    "## Heat Maps"
   ]
  },
  {
   "cell_type": "markdown",
   "metadata": {},
   "source": [
    "### Orlando Crime:  All Crimes 2017"
   ]
  },
  {
   "cell_type": "code",
   "execution_count": null,
   "metadata": {},
   "outputs": [],
   "source": [
    "All2017heatmap = DrawHeatMap(data2017['Location'])\n",
    "All2017heatmap"
   ]
  },
  {
   "cell_type": "markdown",
   "metadata": {},
   "source": [
    "### Orlando Crimes:  Larceny (Theft, Burglary, Robbery) 2017"
   ]
  },
  {
   "cell_type": "code",
   "execution_count": null,
   "metadata": {},
   "outputs": [],
   "source": [
    "LarcenyMap = DrawHeatMap(Larceny['Location'])\n",
    "LarcenyMap"
   ]
  },
  {
   "cell_type": "code",
   "execution_count": null,
   "metadata": {},
   "outputs": [],
   "source": []
  },
  {
   "cell_type": "code",
   "execution_count": null,
   "metadata": {},
   "outputs": [],
   "source": []
  },
  {
   "cell_type": "markdown",
   "metadata": {},
   "source": [
    "### Orlando Crime: Assaults in 2017"
   ]
  },
  {
   "cell_type": "code",
   "execution_count": null,
   "metadata": {},
   "outputs": [],
   "source": [
    "AssaultMap = DrawHeatMap(Assault['Location'])\n",
    "AssaultMap"
   ]
  },
  {
   "cell_type": "code",
   "execution_count": null,
   "metadata": {},
   "outputs": [],
   "source": [
    "\n"
   ]
  },
  {
   "cell_type": "markdown",
   "metadata": {},
   "source": [
    "### Orlando Crime: Frauds in 2017"
   ]
  },
  {
   "cell_type": "code",
   "execution_count": null,
   "metadata": {},
   "outputs": [],
   "source": [
    "FMap = DrawHeatMap(Frauds['Location'])\n",
    "FMap"
   ]
  },
  {
   "cell_type": "code",
   "execution_count": null,
   "metadata": {},
   "outputs": [],
   "source": []
  },
  {
   "cell_type": "markdown",
   "metadata": {},
   "source": [
    "### Orlando Crime: Vehicle Theft in 2017"
   ]
  },
  {
   "cell_type": "code",
   "execution_count": null,
   "metadata": {},
   "outputs": [],
   "source": [
    "VTheftmap = DrawHeatMap(VThefts['Location'])\n",
    "VTheftmap"
   ]
  },
  {
   "cell_type": "code",
   "execution_count": null,
   "metadata": {},
   "outputs": [],
   "source": []
  },
  {
   "cell_type": "markdown",
   "metadata": {},
   "source": [
    "### Orlando Crime: Homicide in 2017"
   ]
  },
  {
   "cell_type": "code",
   "execution_count": null,
   "metadata": {},
   "outputs": [],
   "source": [
    "Hmap = DrawHeatMap(Homicide['Location'])\n",
    "Hmap."
   ]
  },
  {
   "cell_type": "code",
   "execution_count": null,
   "metadata": {},
   "outputs": [],
   "source": []
  },
  {
   "cell_type": "markdown",
   "metadata": {},
   "source": [
    "### Graphs"
   ]
  },
  {
   "cell_type": "code",
   "execution_count": null,
   "metadata": {},
   "outputs": [],
   "source": [
    "# Hours that were reported for the crimes, not actual hours when crimes were committed\n",
    "plt.hist(data2017['Case Date Time'].dt.hour, edgecolor='black', bins=(np.arange(25)-.5), rwidth=.8)\n",
    "\n",
    "plt.title('A Day in Crimes', fontsize=18)\n",
    "plt.xlabel('Hours')\n",
    "plt.ylabel('Crimes')"
   ]
  },
  {
   "cell_type": "code",
   "execution_count": null,
   "metadata": {},
   "outputs": [],
   "source": [
    "# Hours that were reported for the crimes, not actual hours when crimes were committed\n",
    "plt.hist(data2017['Case Date Time'].dt.weekday, color='green', edgecolor='black', bins=np.arange(8)-.5, rwidth=.9)\n",
    "\n",
    "plt.title('A Week in Crimes', fontsize=18)\n",
    "plt.xlabel('Days')\n",
    "plt.ylabel('Crimes')\n",
    "plt.xticks(range(7), labels=calendar.day_abbr[0:7], fontsize=10)\n",
    "\n",
    "\n"
   ]
  },
  {
   "cell_type": "code",
   "execution_count": null,
   "metadata": {},
   "outputs": [],
   "source": []
  },
  {
   "cell_type": "code",
   "execution_count": null,
   "metadata": {},
   "outputs": [],
   "source": [
    "# Hours that were reported for the crimes, not actual hours when crimes were committed\n",
    "plt.hist(data2017['Case Date Time'].dt.month, color='orange', edgecolor='black', bins=(np.arange(14)-.5))\n",
    "\n",
    "plt.title('A Year in Crimes', fontsize=18)\n",
    "plt.xlabel('Months')\n",
    "plt.ylabel('Crimes')\n",
    "plt.xticks(range(1,13), labels=calendar.month_abbr[1:13])\n",
    "\n",
    "\n"
   ]
  },
  {
   "cell_type": "code",
   "execution_count": null,
   "metadata": {},
   "outputs": [],
   "source": []
  },
  {
   "cell_type": "code",
   "execution_count": null,
   "metadata": {},
   "outputs": [],
   "source": []
  },
  {
   "cell_type": "code",
   "execution_count": null,
   "metadata": {},
   "outputs": [],
   "source": []
  },
  {
   "cell_type": "markdown",
   "metadata": {},
   "source": [
    "### Test for Widgets: sliders and links"
   ]
  },
  {
   "cell_type": "code",
   "execution_count": null,
   "metadata": {},
   "outputs": [],
   "source": [
    "import ipywidgets as widgets\n",
    "\n",
    "a = widgets.IntSlider(description=\"Delayed\", value=2011, min=2011, max=2016 , step=1, continuous_update=True)\n",
    "b = widgets.IntText(description=\"Delayed\", value=a.value, continuous_update=False)\n",
    "\n",
    "c = widgets.IntSlider(description=\"Continuous\", continuous_update=True)\n",
    "d = widgets.IntText(description=\"Continuous\", continuous_update=True)\n",
    "\n",
    "\n",
    "def OnYearChange(change):    \n",
    "    b.value =change['new']\n",
    "    \n",
    "a.observe(OnYearChange, names='value')\n",
    "\n",
    "#widgets.link((a, 'value'), (b, 'value'))\n",
    "#widgets.link((a, 'value'), (c, 'value'))\n",
    "widgets.link((c, 'value'), (d, 'value'))\n",
    "widgets.VBox([a,b,c,d])\n",
    "\n",
    "    "
   ]
  },
  {
   "cell_type": "code",
   "execution_count": null,
   "metadata": {},
   "outputs": [],
   "source": []
  },
  {
   "cell_type": "code",
   "execution_count": null,
   "metadata": {},
   "outputs": [],
   "source": []
  },
  {
   "cell_type": "code",
   "execution_count": null,
   "metadata": {},
   "outputs": [],
   "source": []
  },
  {
   "cell_type": "code",
   "execution_count": null,
   "metadata": {},
   "outputs": [],
   "source": []
  }
 ],
 "metadata": {
  "kernelspec": {
   "display_name": "Python 3",
   "language": "python",
   "name": "python3"
  },
  "language_info": {
   "codemirror_mode": {
    "name": "ipython",
    "version": 3
   },
   "file_extension": ".py",
   "mimetype": "text/x-python",
   "name": "python",
   "nbconvert_exporter": "python",
   "pygments_lexer": "ipython3",
   "version": "3.7.4"
  }
 },
 "nbformat": 4,
 "nbformat_minor": 4
}
