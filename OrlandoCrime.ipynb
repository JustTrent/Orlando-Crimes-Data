{
 "cells": [
  {
   "cell_type": "code",
   "execution_count": 32,
   "metadata": {},
   "outputs": [],
   "source": [
    "'''\n",
    "Created: Trent Nguyen just.trent.n@gmail.com\n",
    "\n",
    "Data analyst on crimes in Orlando city limit.  Data obtained from Orlando Police Department.\n",
    "'''\n",
    "import gmaps\n",
    "import numpy as np\n",
    "import pandas as pd\n",
    "import matplotlib.pyplot as plt"
   ]
  },
  {
   "cell_type": "code",
   "execution_count": 2,
   "metadata": {},
   "outputs": [],
   "source": [
    "# !!! must have  google maps api key\n",
    "gmaps.configure(api_key='')\n"
   ]
  },
  {
   "cell_type": "code",
   "execution_count": 3,
   "metadata": {},
   "outputs": [],
   "source": [
    "# https://data.cityoforlando.net/Orlando-Police/OPD-Crimes/4y9m-jbmz\n",
    "\n",
    "# This dataset comes from the Orlando Police Department records management system. \n",
    "# It includes all Part 1 and Part 2 crimes as defined by the FBI’s Uniform Crime Reporting standards. \n",
    "# When multiple crimes are committed the highest level of crime is what is shown. \n",
    "# The data includes only Open and Closed cases and does not include informational cases without arrests.\n",
    "# This data excludes crimes where the victim or offender data is or could be legally protected. \n",
    "# Those include:\n",
    "\n",
    "# Domestic Violence\n",
    "# Elderly Abuse\n",
    "# Exempt from Public Record\n",
    "# Witness Protection\n",
    "# Cases where the offender was charged with the following case codes/state statutes:\n",
    "# Sexual Battery\n",
    "# Child Abuse\n",
    "# Aggravated Stalking/Harassment\n",
    "# Obscene or harassing telephone calls\n",
    "# Aggravated Battery\n",
    "# Domestic Violence Injunctions\n",
    "# Lewd,Lascivious or Indecent Assault upon or in the presence of a child\n",
    "# Elder Abuse\n",
    "# Baker Act\n",
    "# Obscenity\n",
    "# Forcible Rape\n",
    "# Forcible Sodomy\n",
    "# Forcible Fondling\n",
    "# Cases where the a juvenile is arrested \n",
    "\n",
    "data_orig = pd.read_csv('OPD_Crimes.csv')"
   ]
  },
  {
   "cell_type": "code",
   "execution_count": 4,
   "metadata": {},
   "outputs": [
    {
     "data": {
      "text/html": [
       "<div>\n",
       "<style scoped>\n",
       "    .dataframe tbody tr th:only-of-type {\n",
       "        vertical-align: middle;\n",
       "    }\n",
       "\n",
       "    .dataframe tbody tr th {\n",
       "        vertical-align: top;\n",
       "    }\n",
       "\n",
       "    .dataframe thead th {\n",
       "        text-align: right;\n",
       "    }\n",
       "</style>\n",
       "<table border=\"1\" class=\"dataframe\">\n",
       "  <thead>\n",
       "    <tr style=\"text-align: right;\">\n",
       "      <th></th>\n",
       "      <th>Case Number</th>\n",
       "      <th>Case Date Time</th>\n",
       "      <th>Case Location</th>\n",
       "      <th>Case Offense Location Type</th>\n",
       "      <th>Case Offense Category</th>\n",
       "      <th>Case Offense Type</th>\n",
       "      <th>Case Offense Charge Type</th>\n",
       "      <th>Case Disposition</th>\n",
       "      <th>Status</th>\n",
       "      <th>Location</th>\n",
       "    </tr>\n",
       "  </thead>\n",
       "  <tbody>\n",
       "    <tr>\n",
       "      <th>0</th>\n",
       "      <td>2013-00074238</td>\n",
       "      <td>02/19/2013 12:41:00 PM</td>\n",
       "      <td>200 Block of N TAMPA AVE</td>\n",
       "      <td>Commercial/Office Building</td>\n",
       "      <td>Assault</td>\n",
       "      <td>Simple assault</td>\n",
       "      <td>Committed</td>\n",
       "      <td>Closed</td>\n",
       "      <td>Mapped</td>\n",
       "      <td>(28.54518403, -81.40556136)</td>\n",
       "    </tr>\n",
       "    <tr>\n",
       "      <th>1</th>\n",
       "      <td>2014-00326276</td>\n",
       "      <td>08/06/2014 02:55:00 AM</td>\n",
       "      <td>8600 Block of ANDREAS AVE</td>\n",
       "      <td>Construction Site</td>\n",
       "      <td>Theft</td>\n",
       "      <td>All other larceny</td>\n",
       "      <td>Committed</td>\n",
       "      <td>Closed</td>\n",
       "      <td>Mapped</td>\n",
       "      <td>(28.44153996, -81.23261223)</td>\n",
       "    </tr>\n",
       "    <tr>\n",
       "      <th>2</th>\n",
       "      <td>2014-00451565</td>\n",
       "      <td>10/30/2014 10:15:00 PM</td>\n",
       "      <td>1900 Block of METROCENTER BV</td>\n",
       "      <td>Commercial/Office Building</td>\n",
       "      <td>Theft</td>\n",
       "      <td>All other larceny</td>\n",
       "      <td>Committed</td>\n",
       "      <td>Closed</td>\n",
       "      <td>Mapped</td>\n",
       "      <td>(28.51884164, -81.46848512)</td>\n",
       "    </tr>\n",
       "    <tr>\n",
       "      <th>3</th>\n",
       "      <td>2016-00007509</td>\n",
       "      <td>01/06/2016 10:39:00 AM</td>\n",
       "      <td>1500 Block of AARON AVE</td>\n",
       "      <td>School</td>\n",
       "      <td>Assault</td>\n",
       "      <td>Simple assault</td>\n",
       "      <td>Committed</td>\n",
       "      <td>Closed</td>\n",
       "      <td>Mapped</td>\n",
       "      <td>(28.52377872, -81.43230433)</td>\n",
       "    </tr>\n",
       "    <tr>\n",
       "      <th>4</th>\n",
       "      <td>2011-00442271</td>\n",
       "      <td>10/06/2011 06:55:00 AM</td>\n",
       "      <td>W JACKSON ST / S PARRAMORE AVE</td>\n",
       "      <td>Parking Lot - Surface</td>\n",
       "      <td>Assault</td>\n",
       "      <td>Simple assault</td>\n",
       "      <td>Attempted</td>\n",
       "      <td>Arrest</td>\n",
       "      <td>Mapped</td>\n",
       "      <td>(28.53921282, -81.38900691)</td>\n",
       "    </tr>\n",
       "  </tbody>\n",
       "</table>\n",
       "</div>"
      ],
      "text/plain": [
       "     Case Number          Case Date Time                   Case Location  \\\n",
       "0  2013-00074238  02/19/2013 12:41:00 PM        200 Block of N TAMPA AVE   \n",
       "1  2014-00326276  08/06/2014 02:55:00 AM       8600 Block of ANDREAS AVE   \n",
       "2  2014-00451565  10/30/2014 10:15:00 PM    1900 Block of METROCENTER BV   \n",
       "3  2016-00007509  01/06/2016 10:39:00 AM         1500 Block of AARON AVE   \n",
       "4  2011-00442271  10/06/2011 06:55:00 AM  W JACKSON ST / S PARRAMORE AVE   \n",
       "\n",
       "   Case Offense Location Type Case Offense Category  Case Offense Type  \\\n",
       "0  Commercial/Office Building               Assault     Simple assault   \n",
       "1           Construction Site                 Theft  All other larceny   \n",
       "2  Commercial/Office Building                 Theft  All other larceny   \n",
       "3                      School               Assault     Simple assault   \n",
       "4       Parking Lot - Surface               Assault     Simple assault   \n",
       "\n",
       "  Case Offense Charge Type Case Disposition  Status  \\\n",
       "0                Committed           Closed  Mapped   \n",
       "1                Committed           Closed  Mapped   \n",
       "2                Committed           Closed  Mapped   \n",
       "3                Committed           Closed  Mapped   \n",
       "4                Attempted           Arrest  Mapped   \n",
       "\n",
       "                      Location  \n",
       "0  (28.54518403, -81.40556136)  \n",
       "1  (28.44153996, -81.23261223)  \n",
       "2  (28.51884164, -81.46848512)  \n",
       "3  (28.52377872, -81.43230433)  \n",
       "4  (28.53921282, -81.38900691)  "
      ]
     },
     "execution_count": 4,
     "metadata": {},
     "output_type": "execute_result"
    }
   ],
   "source": [
    "data_orig.head()"
   ]
  },
  {
   "cell_type": "code",
   "execution_count": 5,
   "metadata": {},
   "outputs": [
    {
     "data": {
      "text/html": [
       "<div>\n",
       "<style scoped>\n",
       "    .dataframe tbody tr th:only-of-type {\n",
       "        vertical-align: middle;\n",
       "    }\n",
       "\n",
       "    .dataframe tbody tr th {\n",
       "        vertical-align: top;\n",
       "    }\n",
       "\n",
       "    .dataframe thead th {\n",
       "        text-align: right;\n",
       "    }\n",
       "</style>\n",
       "<table border=\"1\" class=\"dataframe\">\n",
       "  <thead>\n",
       "    <tr style=\"text-align: right;\">\n",
       "      <th></th>\n",
       "      <th>Case Number</th>\n",
       "      <th>Case Date Time</th>\n",
       "      <th>Case Location</th>\n",
       "      <th>Case Offense Location Type</th>\n",
       "      <th>Case Offense Category</th>\n",
       "      <th>Case Offense Type</th>\n",
       "      <th>Case Offense Charge Type</th>\n",
       "      <th>Case Disposition</th>\n",
       "      <th>Status</th>\n",
       "      <th>Location</th>\n",
       "    </tr>\n",
       "  </thead>\n",
       "  <tbody>\n",
       "    <tr>\n",
       "      <th>count</th>\n",
       "      <td>181260</td>\n",
       "      <td>181258</td>\n",
       "      <td>181260</td>\n",
       "      <td>181260</td>\n",
       "      <td>181260</td>\n",
       "      <td>181260</td>\n",
       "      <td>181260</td>\n",
       "      <td>181260</td>\n",
       "      <td>181260</td>\n",
       "      <td>174368</td>\n",
       "    </tr>\n",
       "    <tr>\n",
       "      <th>unique</th>\n",
       "      <td>181259</td>\n",
       "      <td>176574</td>\n",
       "      <td>13249</td>\n",
       "      <td>78</td>\n",
       "      <td>13</td>\n",
       "      <td>25</td>\n",
       "      <td>3</td>\n",
       "      <td>5</td>\n",
       "      <td>3</td>\n",
       "      <td>14131</td>\n",
       "    </tr>\n",
       "    <tr>\n",
       "      <th>top</th>\n",
       "      <td>CaseNumber</td>\n",
       "      <td>05/28/2016 11:10:00 AM</td>\n",
       "      <td>4900 Block of INTERNATIONAL DR</td>\n",
       "      <td>Apartment/Condo</td>\n",
       "      <td>Theft</td>\n",
       "      <td>All other larceny</td>\n",
       "      <td>Committed</td>\n",
       "      <td>Closed</td>\n",
       "      <td>Mapped</td>\n",
       "      <td>(28.43180352, -81.30852827)</td>\n",
       "    </tr>\n",
       "    <tr>\n",
       "      <th>freq</th>\n",
       "      <td>2</td>\n",
       "      <td>4</td>\n",
       "      <td>3596</td>\n",
       "      <td>34446</td>\n",
       "      <td>89766</td>\n",
       "      <td>47189</td>\n",
       "      <td>171626</td>\n",
       "      <td>129792</td>\n",
       "      <td>174368</td>\n",
       "      <td>3736</td>\n",
       "    </tr>\n",
       "  </tbody>\n",
       "</table>\n",
       "</div>"
      ],
      "text/plain": [
       "       Case Number          Case Date Time                   Case Location  \\\n",
       "count       181260                  181258                          181260   \n",
       "unique      181259                  176574                           13249   \n",
       "top     CaseNumber  05/28/2016 11:10:00 AM  4900 Block of INTERNATIONAL DR   \n",
       "freq             2                       4                            3596   \n",
       "\n",
       "       Case Offense Location Type Case Offense Category  Case Offense Type  \\\n",
       "count                      181260                181260             181260   \n",
       "unique                         78                    13                 25   \n",
       "top               Apartment/Condo                 Theft  All other larceny   \n",
       "freq                        34446                 89766              47189   \n",
       "\n",
       "       Case Offense Charge Type Case Disposition  Status  \\\n",
       "count                    181260           181260  181260   \n",
       "unique                        3                5       3   \n",
       "top                   Committed           Closed  Mapped   \n",
       "freq                     171626           129792  174368   \n",
       "\n",
       "                           Location  \n",
       "count                        174368  \n",
       "unique                        14131  \n",
       "top     (28.43180352, -81.30852827)  \n",
       "freq                           3736  "
      ]
     },
     "execution_count": 5,
     "metadata": {},
     "output_type": "execute_result"
    }
   ],
   "source": [
    "data_orig.describe()"
   ]
  },
  {
   "cell_type": "markdown",
   "metadata": {},
   "source": [
    "## Data Cleaning"
   ]
  },
  {
   "cell_type": "code",
   "execution_count": 6,
   "metadata": {},
   "outputs": [],
   "source": [
    "# copy original data frame so cleaning can be done\n",
    "data1 = data_orig.copy()"
   ]
  },
  {
   "cell_type": "code",
   "execution_count": 7,
   "metadata": {},
   "outputs": [
    {
     "data": {
      "text/html": [
       "<div>\n",
       "<style scoped>\n",
       "    .dataframe tbody tr th:only-of-type {\n",
       "        vertical-align: middle;\n",
       "    }\n",
       "\n",
       "    .dataframe tbody tr th {\n",
       "        vertical-align: top;\n",
       "    }\n",
       "\n",
       "    .dataframe thead th {\n",
       "        text-align: right;\n",
       "    }\n",
       "</style>\n",
       "<table border=\"1\" class=\"dataframe\">\n",
       "  <thead>\n",
       "    <tr style=\"text-align: right;\">\n",
       "      <th></th>\n",
       "      <th>Case Number</th>\n",
       "      <th>Case Date Time</th>\n",
       "      <th>Case Location</th>\n",
       "      <th>Case Offense Location Type</th>\n",
       "      <th>Case Offense Category</th>\n",
       "      <th>Case Offense Type</th>\n",
       "      <th>Case Offense Charge Type</th>\n",
       "      <th>Case Disposition</th>\n",
       "      <th>Status</th>\n",
       "      <th>Location</th>\n",
       "    </tr>\n",
       "  </thead>\n",
       "  <tbody>\n",
       "    <tr>\n",
       "      <th>0</th>\n",
       "      <td>2013-00074238</td>\n",
       "      <td>2013-02-19 12:41:00</td>\n",
       "      <td>200 Block of N TAMPA AVE</td>\n",
       "      <td>Commercial/Office Building</td>\n",
       "      <td>Assault</td>\n",
       "      <td>Simple assault</td>\n",
       "      <td>Committed</td>\n",
       "      <td>Closed</td>\n",
       "      <td>Mapped</td>\n",
       "      <td>(28.54518403, -81.40556136)</td>\n",
       "    </tr>\n",
       "    <tr>\n",
       "      <th>1</th>\n",
       "      <td>2014-00326276</td>\n",
       "      <td>2014-08-06 02:55:00</td>\n",
       "      <td>8600 Block of ANDREAS AVE</td>\n",
       "      <td>Construction Site</td>\n",
       "      <td>Theft</td>\n",
       "      <td>All other larceny</td>\n",
       "      <td>Committed</td>\n",
       "      <td>Closed</td>\n",
       "      <td>Mapped</td>\n",
       "      <td>(28.44153996, -81.23261223)</td>\n",
       "    </tr>\n",
       "    <tr>\n",
       "      <th>2</th>\n",
       "      <td>2014-00451565</td>\n",
       "      <td>2014-10-30 22:15:00</td>\n",
       "      <td>1900 Block of METROCENTER BV</td>\n",
       "      <td>Commercial/Office Building</td>\n",
       "      <td>Theft</td>\n",
       "      <td>All other larceny</td>\n",
       "      <td>Committed</td>\n",
       "      <td>Closed</td>\n",
       "      <td>Mapped</td>\n",
       "      <td>(28.51884164, -81.46848512)</td>\n",
       "    </tr>\n",
       "    <tr>\n",
       "      <th>3</th>\n",
       "      <td>2016-00007509</td>\n",
       "      <td>2016-01-06 10:39:00</td>\n",
       "      <td>1500 Block of AARON AVE</td>\n",
       "      <td>School</td>\n",
       "      <td>Assault</td>\n",
       "      <td>Simple assault</td>\n",
       "      <td>Committed</td>\n",
       "      <td>Closed</td>\n",
       "      <td>Mapped</td>\n",
       "      <td>(28.52377872, -81.43230433)</td>\n",
       "    </tr>\n",
       "    <tr>\n",
       "      <th>4</th>\n",
       "      <td>2011-00442271</td>\n",
       "      <td>2011-10-06 06:55:00</td>\n",
       "      <td>W JACKSON ST / S PARRAMORE AVE</td>\n",
       "      <td>Parking Lot - Surface</td>\n",
       "      <td>Assault</td>\n",
       "      <td>Simple assault</td>\n",
       "      <td>Attempted</td>\n",
       "      <td>Arrest</td>\n",
       "      <td>Mapped</td>\n",
       "      <td>(28.53921282, -81.38900691)</td>\n",
       "    </tr>\n",
       "  </tbody>\n",
       "</table>\n",
       "</div>"
      ],
      "text/plain": [
       "     Case Number      Case Date Time                   Case Location  \\\n",
       "0  2013-00074238 2013-02-19 12:41:00        200 Block of N TAMPA AVE   \n",
       "1  2014-00326276 2014-08-06 02:55:00       8600 Block of ANDREAS AVE   \n",
       "2  2014-00451565 2014-10-30 22:15:00    1900 Block of METROCENTER BV   \n",
       "3  2016-00007509 2016-01-06 10:39:00         1500 Block of AARON AVE   \n",
       "4  2011-00442271 2011-10-06 06:55:00  W JACKSON ST / S PARRAMORE AVE   \n",
       "\n",
       "   Case Offense Location Type Case Offense Category  Case Offense Type  \\\n",
       "0  Commercial/Office Building               Assault     Simple assault   \n",
       "1           Construction Site                 Theft  All other larceny   \n",
       "2  Commercial/Office Building                 Theft  All other larceny   \n",
       "3                      School               Assault     Simple assault   \n",
       "4       Parking Lot - Surface               Assault     Simple assault   \n",
       "\n",
       "  Case Offense Charge Type Case Disposition  Status  \\\n",
       "0                Committed           Closed  Mapped   \n",
       "1                Committed           Closed  Mapped   \n",
       "2                Committed           Closed  Mapped   \n",
       "3                Committed           Closed  Mapped   \n",
       "4                Attempted           Arrest  Mapped   \n",
       "\n",
       "                      Location  \n",
       "0  (28.54518403, -81.40556136)  \n",
       "1  (28.44153996, -81.23261223)  \n",
       "2  (28.51884164, -81.46848512)  \n",
       "3  (28.52377872, -81.43230433)  \n",
       "4  (28.53921282, -81.38900691)  "
      ]
     },
     "execution_count": 7,
     "metadata": {},
     "output_type": "execute_result"
    }
   ],
   "source": [
    "# convert str 'Case Date Time' to Timestamp type\n",
    "# list comprehension but still slow; over 2 minutes, \n",
    "# wonder if there's faster ways to convert to Timestamp\n",
    "#data1['Case Date Time'] = pd.to_datetime(data1['Case Date Time'])\n",
    "data1['Case Date Time'] = [pd.to_datetime(x) for x in data1['Case Date Time']]\n",
    "data1.head()"
   ]
  },
  {
   "cell_type": "code",
   "execution_count": 8,
   "metadata": {},
   "outputs": [
    {
     "data": {
      "text/html": [
       "<div>\n",
       "<style scoped>\n",
       "    .dataframe tbody tr th:only-of-type {\n",
       "        vertical-align: middle;\n",
       "    }\n",
       "\n",
       "    .dataframe tbody tr th {\n",
       "        vertical-align: top;\n",
       "    }\n",
       "\n",
       "    .dataframe thead th {\n",
       "        text-align: right;\n",
       "    }\n",
       "</style>\n",
       "<table border=\"1\" class=\"dataframe\">\n",
       "  <thead>\n",
       "    <tr style=\"text-align: right;\">\n",
       "      <th></th>\n",
       "      <th>Case Number</th>\n",
       "      <th>Case Date Time</th>\n",
       "      <th>Case Location</th>\n",
       "      <th>Case Offense Location Type</th>\n",
       "      <th>Case Offense Category</th>\n",
       "      <th>Case Offense Type</th>\n",
       "      <th>Case Offense Charge Type</th>\n",
       "      <th>Case Disposition</th>\n",
       "      <th>Status</th>\n",
       "      <th>Location</th>\n",
       "    </tr>\n",
       "  </thead>\n",
       "  <tbody>\n",
       "    <tr>\n",
       "      <th>0</th>\n",
       "      <td>2013-00074238</td>\n",
       "      <td>2013-02-19 12:41:00</td>\n",
       "      <td>200 Block of N TAMPA AVE</td>\n",
       "      <td>Commercial/Office Building</td>\n",
       "      <td>Assault</td>\n",
       "      <td>Simple assault</td>\n",
       "      <td>Committed</td>\n",
       "      <td>Closed</td>\n",
       "      <td>Mapped</td>\n",
       "      <td>28.54518403, -81.40556136</td>\n",
       "    </tr>\n",
       "    <tr>\n",
       "      <th>1</th>\n",
       "      <td>2014-00326276</td>\n",
       "      <td>2014-08-06 02:55:00</td>\n",
       "      <td>8600 Block of ANDREAS AVE</td>\n",
       "      <td>Construction Site</td>\n",
       "      <td>Theft</td>\n",
       "      <td>All other larceny</td>\n",
       "      <td>Committed</td>\n",
       "      <td>Closed</td>\n",
       "      <td>Mapped</td>\n",
       "      <td>28.44153996, -81.23261223</td>\n",
       "    </tr>\n",
       "    <tr>\n",
       "      <th>2</th>\n",
       "      <td>2014-00451565</td>\n",
       "      <td>2014-10-30 22:15:00</td>\n",
       "      <td>1900 Block of METROCENTER BV</td>\n",
       "      <td>Commercial/Office Building</td>\n",
       "      <td>Theft</td>\n",
       "      <td>All other larceny</td>\n",
       "      <td>Committed</td>\n",
       "      <td>Closed</td>\n",
       "      <td>Mapped</td>\n",
       "      <td>28.51884164, -81.46848512</td>\n",
       "    </tr>\n",
       "    <tr>\n",
       "      <th>3</th>\n",
       "      <td>2016-00007509</td>\n",
       "      <td>2016-01-06 10:39:00</td>\n",
       "      <td>1500 Block of AARON AVE</td>\n",
       "      <td>School</td>\n",
       "      <td>Assault</td>\n",
       "      <td>Simple assault</td>\n",
       "      <td>Committed</td>\n",
       "      <td>Closed</td>\n",
       "      <td>Mapped</td>\n",
       "      <td>28.52377872, -81.43230433</td>\n",
       "    </tr>\n",
       "    <tr>\n",
       "      <th>4</th>\n",
       "      <td>2011-00442271</td>\n",
       "      <td>2011-10-06 06:55:00</td>\n",
       "      <td>W JACKSON ST / S PARRAMORE AVE</td>\n",
       "      <td>Parking Lot - Surface</td>\n",
       "      <td>Assault</td>\n",
       "      <td>Simple assault</td>\n",
       "      <td>Attempted</td>\n",
       "      <td>Arrest</td>\n",
       "      <td>Mapped</td>\n",
       "      <td>28.53921282, -81.38900691</td>\n",
       "    </tr>\n",
       "  </tbody>\n",
       "</table>\n",
       "</div>"
      ],
      "text/plain": [
       "     Case Number      Case Date Time                   Case Location  \\\n",
       "0  2013-00074238 2013-02-19 12:41:00        200 Block of N TAMPA AVE   \n",
       "1  2014-00326276 2014-08-06 02:55:00       8600 Block of ANDREAS AVE   \n",
       "2  2014-00451565 2014-10-30 22:15:00    1900 Block of METROCENTER BV   \n",
       "3  2016-00007509 2016-01-06 10:39:00         1500 Block of AARON AVE   \n",
       "4  2011-00442271 2011-10-06 06:55:00  W JACKSON ST / S PARRAMORE AVE   \n",
       "\n",
       "   Case Offense Location Type Case Offense Category  Case Offense Type  \\\n",
       "0  Commercial/Office Building               Assault     Simple assault   \n",
       "1           Construction Site                 Theft  All other larceny   \n",
       "2  Commercial/Office Building                 Theft  All other larceny   \n",
       "3                      School               Assault     Simple assault   \n",
       "4       Parking Lot - Surface               Assault     Simple assault   \n",
       "\n",
       "  Case Offense Charge Type Case Disposition  Status                   Location  \n",
       "0                Committed           Closed  Mapped  28.54518403, -81.40556136  \n",
       "1                Committed           Closed  Mapped  28.44153996, -81.23261223  \n",
       "2                Committed           Closed  Mapped  28.51884164, -81.46848512  \n",
       "3                Committed           Closed  Mapped  28.52377872, -81.43230433  \n",
       "4                Attempted           Arrest  Mapped  28.53921282, -81.38900691  "
      ]
     },
     "execution_count": 8,
     "metadata": {},
     "output_type": "execute_result"
    }
   ],
   "source": [
    "# remove parenthensis '()' from Location str\n",
    "data1['Location'].replace('[\\(\\)]','', regex=True, inplace=True)\n",
    "\n",
    "data1.head()"
   ]
  },
  {
   "cell_type": "code",
   "execution_count": null,
   "metadata": {},
   "outputs": [],
   "source": []
  },
  {
   "cell_type": "code",
   "execution_count": 9,
   "metadata": {},
   "outputs": [
    {
     "name": "stdout",
     "output_type": "stream",
     "text": [
      "<class 'pandas.core.frame.DataFrame'>\n",
      "Int64Index: 174368 entries, 0 to 181259\n",
      "Data columns (total 10 columns):\n",
      "Case Number                   174368 non-null object\n",
      "Case Date Time                174368 non-null datetime64[ns]\n",
      "Case Location                 174368 non-null object\n",
      "Case Offense Location Type    174368 non-null object\n",
      "Case Offense Category         174368 non-null object\n",
      "Case Offense Type             174368 non-null object\n",
      "Case Offense Charge Type      174368 non-null object\n",
      "Case Disposition              174368 non-null object\n",
      "Status                        174368 non-null object\n",
      "Location                      174368 non-null object\n",
      "dtypes: datetime64[ns](1), object(9)\n",
      "memory usage: 14.6+ MB\n"
     ]
    }
   ],
   "source": [
    "# drop any rows that contains NaN; mostly in the Location column\n",
    "data1.dropna(inplace=True)\n",
    "data1.info()"
   ]
  },
  {
   "cell_type": "code",
   "execution_count": null,
   "metadata": {},
   "outputs": [],
   "source": []
  },
  {
   "cell_type": "code",
   "execution_count": null,
   "metadata": {},
   "outputs": [],
   "source": [
    "    "
   ]
  },
  {
   "cell_type": "code",
   "execution_count": null,
   "metadata": {},
   "outputs": [],
   "source": []
  },
  {
   "cell_type": "code",
   "execution_count": 10,
   "metadata": {},
   "outputs": [
    {
     "data": {
      "text/html": [
       "<div>\n",
       "<style scoped>\n",
       "    .dataframe tbody tr th:only-of-type {\n",
       "        vertical-align: middle;\n",
       "    }\n",
       "\n",
       "    .dataframe tbody tr th {\n",
       "        vertical-align: top;\n",
       "    }\n",
       "\n",
       "    .dataframe thead th {\n",
       "        text-align: right;\n",
       "    }\n",
       "</style>\n",
       "<table border=\"1\" class=\"dataframe\">\n",
       "  <thead>\n",
       "    <tr style=\"text-align: right;\">\n",
       "      <th></th>\n",
       "      <th>Case Number</th>\n",
       "      <th>Case Date Time</th>\n",
       "      <th>Case Location</th>\n",
       "      <th>Case Offense Location Type</th>\n",
       "      <th>Case Offense Category</th>\n",
       "      <th>Case Offense Type</th>\n",
       "      <th>Case Offense Charge Type</th>\n",
       "      <th>Case Disposition</th>\n",
       "      <th>Status</th>\n",
       "      <th>Location</th>\n",
       "    </tr>\n",
       "  </thead>\n",
       "  <tbody>\n",
       "    <tr>\n",
       "      <th>0</th>\n",
       "      <td>2013-00074238</td>\n",
       "      <td>2013-02-19 12:41:00</td>\n",
       "      <td>200 Block of N TAMPA AVE</td>\n",
       "      <td>Commercial/Office Building</td>\n",
       "      <td>Assault</td>\n",
       "      <td>Simple assault</td>\n",
       "      <td>Committed</td>\n",
       "      <td>Closed</td>\n",
       "      <td>Mapped</td>\n",
       "      <td>(28.54518403, -81.40556136)</td>\n",
       "    </tr>\n",
       "    <tr>\n",
       "      <th>1</th>\n",
       "      <td>2014-00326276</td>\n",
       "      <td>2014-08-06 02:55:00</td>\n",
       "      <td>8600 Block of ANDREAS AVE</td>\n",
       "      <td>Construction Site</td>\n",
       "      <td>Theft</td>\n",
       "      <td>All other larceny</td>\n",
       "      <td>Committed</td>\n",
       "      <td>Closed</td>\n",
       "      <td>Mapped</td>\n",
       "      <td>(28.44153996, -81.23261223)</td>\n",
       "    </tr>\n",
       "    <tr>\n",
       "      <th>2</th>\n",
       "      <td>2014-00451565</td>\n",
       "      <td>2014-10-30 22:15:00</td>\n",
       "      <td>1900 Block of METROCENTER BV</td>\n",
       "      <td>Commercial/Office Building</td>\n",
       "      <td>Theft</td>\n",
       "      <td>All other larceny</td>\n",
       "      <td>Committed</td>\n",
       "      <td>Closed</td>\n",
       "      <td>Mapped</td>\n",
       "      <td>(28.51884164, -81.46848512)</td>\n",
       "    </tr>\n",
       "    <tr>\n",
       "      <th>3</th>\n",
       "      <td>2016-00007509</td>\n",
       "      <td>2016-01-06 10:39:00</td>\n",
       "      <td>1500 Block of AARON AVE</td>\n",
       "      <td>School</td>\n",
       "      <td>Assault</td>\n",
       "      <td>Simple assault</td>\n",
       "      <td>Committed</td>\n",
       "      <td>Closed</td>\n",
       "      <td>Mapped</td>\n",
       "      <td>(28.52377872, -81.43230433)</td>\n",
       "    </tr>\n",
       "    <tr>\n",
       "      <th>4</th>\n",
       "      <td>2011-00442271</td>\n",
       "      <td>2011-10-06 06:55:00</td>\n",
       "      <td>W JACKSON ST / S PARRAMORE AVE</td>\n",
       "      <td>Parking Lot - Surface</td>\n",
       "      <td>Assault</td>\n",
       "      <td>Simple assault</td>\n",
       "      <td>Attempted</td>\n",
       "      <td>Arrest</td>\n",
       "      <td>Mapped</td>\n",
       "      <td>(28.53921282, -81.38900691)</td>\n",
       "    </tr>\n",
       "  </tbody>\n",
       "</table>\n",
       "</div>"
      ],
      "text/plain": [
       "     Case Number      Case Date Time                   Case Location  \\\n",
       "0  2013-00074238 2013-02-19 12:41:00        200 Block of N TAMPA AVE   \n",
       "1  2014-00326276 2014-08-06 02:55:00       8600 Block of ANDREAS AVE   \n",
       "2  2014-00451565 2014-10-30 22:15:00    1900 Block of METROCENTER BV   \n",
       "3  2016-00007509 2016-01-06 10:39:00         1500 Block of AARON AVE   \n",
       "4  2011-00442271 2011-10-06 06:55:00  W JACKSON ST / S PARRAMORE AVE   \n",
       "\n",
       "   Case Offense Location Type Case Offense Category  Case Offense Type  \\\n",
       "0  Commercial/Office Building               Assault     Simple assault   \n",
       "1           Construction Site                 Theft  All other larceny   \n",
       "2  Commercial/Office Building                 Theft  All other larceny   \n",
       "3                      School               Assault     Simple assault   \n",
       "4       Parking Lot - Surface               Assault     Simple assault   \n",
       "\n",
       "  Case Offense Charge Type Case Disposition  Status  \\\n",
       "0                Committed           Closed  Mapped   \n",
       "1                Committed           Closed  Mapped   \n",
       "2                Committed           Closed  Mapped   \n",
       "3                Committed           Closed  Mapped   \n",
       "4                Attempted           Arrest  Mapped   \n",
       "\n",
       "                      Location  \n",
       "0  (28.54518403, -81.40556136)  \n",
       "1  (28.44153996, -81.23261223)  \n",
       "2  (28.51884164, -81.46848512)  \n",
       "3  (28.52377872, -81.43230433)  \n",
       "4  (28.53921282, -81.38900691)  "
      ]
     },
     "execution_count": 10,
     "metadata": {},
     "output_type": "execute_result"
    }
   ],
   "source": [
    "# convert the str 'Location' coordinate to float64\n",
    "location =[ (np.float64(lat), np.float64(long)) for (lat, long) in data1['Location'].str.split(',')]\n",
    "data1['Location'] = location\n",
    "data1.head()\n"
   ]
  },
  {
   "cell_type": "code",
   "execution_count": 11,
   "metadata": {},
   "outputs": [
    {
     "name": "stdout",
     "output_type": "stream",
     "text": [
      "<class 'pandas.core.frame.DataFrame'>\n",
      "Int64Index: 174368 entries, 0 to 181259\n",
      "Data columns (total 10 columns):\n",
      "Case Number                   174368 non-null object\n",
      "Case Date Time                174368 non-null datetime64[ns]\n",
      "Case Location                 174368 non-null object\n",
      "Case Offense Location Type    174368 non-null object\n",
      "Case Offense Category         174368 non-null object\n",
      "Case Offense Type             174368 non-null object\n",
      "Case Offense Charge Type      174368 non-null object\n",
      "Case Disposition              174368 non-null object\n",
      "Status                        174368 non-null object\n",
      "Location                      174368 non-null object\n",
      "dtypes: datetime64[ns](1), object(9)\n",
      "memory usage: 14.6+ MB\n"
     ]
    }
   ],
   "source": [
    "data1.info()"
   ]
  },
  {
   "cell_type": "code",
   "execution_count": 12,
   "metadata": {},
   "outputs": [
    {
     "data": {
      "text/plain": [
       "Theft            86706\n",
       "Burglary         25129\n",
       "Assault          19022\n",
       "Narcotics        18299\n",
       "Fraud            11255\n",
       "Vehicle Theft     8627\n",
       "Robbery           4828\n",
       "Arson              236\n",
       "Homicide           140\n",
       "Kidnapping          87\n",
       "Embezzlement        38\n",
       "Bribery              1\n",
       "Name: Case Offense Category, dtype: int64"
      ]
     },
     "execution_count": 12,
     "metadata": {},
     "output_type": "execute_result"
    }
   ],
   "source": [
    "data1['Case Offense Category'].value_counts()"
   ]
  },
  {
   "cell_type": "markdown",
   "metadata": {},
   "source": [
    "### Get Data on Year 2017"
   ]
  },
  {
   "cell_type": "code",
   "execution_count": 13,
   "metadata": {},
   "outputs": [],
   "source": [
    "# get data for yr 2017 for now\n",
    "bYear2017 =  data1['Case Date Time'].dt.year == 2017\n",
    "\n",
    "# checked the Location data for 'NaN' (null); \n",
    "# can't rely on 'Status' column as it might not be accurate\n",
    "bLoc = data1['Location'].isnull() == False\n",
    "\n",
    "# get data for yr 2017 and where location data is available\n",
    "data2017 = data1[bYear2017 & bLoc]"
   ]
  },
  {
   "cell_type": "code",
   "execution_count": 14,
   "metadata": {},
   "outputs": [
    {
     "name": "stdout",
     "output_type": "stream",
     "text": [
      "<class 'pandas.core.frame.DataFrame'>\n",
      "Int64Index: 20882 entries, 18 to 181253\n",
      "Data columns (total 10 columns):\n",
      "Case Number                   20882 non-null object\n",
      "Case Date Time                20882 non-null datetime64[ns]\n",
      "Case Location                 20882 non-null object\n",
      "Case Offense Location Type    20882 non-null object\n",
      "Case Offense Category         20882 non-null object\n",
      "Case Offense Type             20882 non-null object\n",
      "Case Offense Charge Type      20882 non-null object\n",
      "Case Disposition              20882 non-null object\n",
      "Status                        20882 non-null object\n",
      "Location                      20882 non-null object\n",
      "dtypes: datetime64[ns](1), object(9)\n",
      "memory usage: 1.8+ MB\n"
     ]
    }
   ],
   "source": [
    "data2017.info()"
   ]
  },
  {
   "cell_type": "code",
   "execution_count": 15,
   "metadata": {},
   "outputs": [
    {
     "data": {
      "text/html": [
       "<div>\n",
       "<style scoped>\n",
       "    .dataframe tbody tr th:only-of-type {\n",
       "        vertical-align: middle;\n",
       "    }\n",
       "\n",
       "    .dataframe tbody tr th {\n",
       "        vertical-align: top;\n",
       "    }\n",
       "\n",
       "    .dataframe thead th {\n",
       "        text-align: right;\n",
       "    }\n",
       "</style>\n",
       "<table border=\"1\" class=\"dataframe\">\n",
       "  <thead>\n",
       "    <tr style=\"text-align: right;\">\n",
       "      <th></th>\n",
       "      <th>Case Number</th>\n",
       "      <th>Case Date Time</th>\n",
       "      <th>Case Location</th>\n",
       "      <th>Case Offense Location Type</th>\n",
       "      <th>Case Offense Category</th>\n",
       "      <th>Case Offense Type</th>\n",
       "      <th>Case Offense Charge Type</th>\n",
       "      <th>Case Disposition</th>\n",
       "      <th>Status</th>\n",
       "      <th>Location</th>\n",
       "    </tr>\n",
       "  </thead>\n",
       "  <tbody>\n",
       "    <tr>\n",
       "      <th>18</th>\n",
       "      <td>2017-00436166</td>\n",
       "      <td>2017-11-06 07:16:00</td>\n",
       "      <td>9300 Block of JEFF FUQUA BLVD</td>\n",
       "      <td>Airport</td>\n",
       "      <td>Theft</td>\n",
       "      <td>All other larceny</td>\n",
       "      <td>Committed</td>\n",
       "      <td>Closed</td>\n",
       "      <td>Mapped</td>\n",
       "      <td>(28.431808841, -81.308531359)</td>\n",
       "    </tr>\n",
       "    <tr>\n",
       "      <th>28</th>\n",
       "      <td>2017-00081583</td>\n",
       "      <td>2017-02-28 10:10:00</td>\n",
       "      <td>6100 Block of WESTGATE DR</td>\n",
       "      <td>Apartment/Condo</td>\n",
       "      <td>Theft</td>\n",
       "      <td>All other larceny</td>\n",
       "      <td>Attempted</td>\n",
       "      <td>Closed</td>\n",
       "      <td>Mapped</td>\n",
       "      <td>(28.532106547, -81.467537572)</td>\n",
       "    </tr>\n",
       "    <tr>\n",
       "      <th>36</th>\n",
       "      <td>2017-00314016</td>\n",
       "      <td>2017-08-11 22:43:00</td>\n",
       "      <td>500 Block of N JOHN YOUNG PKWY</td>\n",
       "      <td>Bus/Rail Terminal</td>\n",
       "      <td>Assault</td>\n",
       "      <td>Simple assault</td>\n",
       "      <td>Committed</td>\n",
       "      <td>Arrest</td>\n",
       "      <td>Mapped</td>\n",
       "      <td>(28.548002548, -81.413740652)</td>\n",
       "    </tr>\n",
       "    <tr>\n",
       "      <th>39</th>\n",
       "      <td>2017-00280881</td>\n",
       "      <td>2017-07-19 15:19:00</td>\n",
       "      <td>9200 Block of RANDAL PARK BLVD</td>\n",
       "      <td>Parking Lot - Surface</td>\n",
       "      <td>Theft</td>\n",
       "      <td>All other larceny</td>\n",
       "      <td>Committed</td>\n",
       "      <td>Closed</td>\n",
       "      <td>Mapped</td>\n",
       "      <td>(28.43245109, -81.233032639)</td>\n",
       "    </tr>\n",
       "    <tr>\n",
       "      <th>46</th>\n",
       "      <td>2017-00257909</td>\n",
       "      <td>2017-07-03 10:34:00</td>\n",
       "      <td>4300 Block of LAKE UNDERHILL RD</td>\n",
       "      <td>Parking Lot - Surface</td>\n",
       "      <td>Theft</td>\n",
       "      <td>All other larceny</td>\n",
       "      <td>Attempted</td>\n",
       "      <td>Closed</td>\n",
       "      <td>Mapped</td>\n",
       "      <td>(28.537144516, -81.332768003)</td>\n",
       "    </tr>\n",
       "  </tbody>\n",
       "</table>\n",
       "</div>"
      ],
      "text/plain": [
       "      Case Number      Case Date Time                    Case Location  \\\n",
       "18  2017-00436166 2017-11-06 07:16:00    9300 Block of JEFF FUQUA BLVD   \n",
       "28  2017-00081583 2017-02-28 10:10:00        6100 Block of WESTGATE DR   \n",
       "36  2017-00314016 2017-08-11 22:43:00   500 Block of N JOHN YOUNG PKWY   \n",
       "39  2017-00280881 2017-07-19 15:19:00   9200 Block of RANDAL PARK BLVD   \n",
       "46  2017-00257909 2017-07-03 10:34:00  4300 Block of LAKE UNDERHILL RD   \n",
       "\n",
       "   Case Offense Location Type Case Offense Category  Case Offense Type  \\\n",
       "18                    Airport                 Theft  All other larceny   \n",
       "28            Apartment/Condo                 Theft  All other larceny   \n",
       "36          Bus/Rail Terminal               Assault     Simple assault   \n",
       "39      Parking Lot - Surface                 Theft  All other larceny   \n",
       "46      Parking Lot - Surface                 Theft  All other larceny   \n",
       "\n",
       "   Case Offense Charge Type Case Disposition  Status  \\\n",
       "18                Committed           Closed  Mapped   \n",
       "28                Attempted           Closed  Mapped   \n",
       "36                Committed           Arrest  Mapped   \n",
       "39                Committed           Closed  Mapped   \n",
       "46                Attempted           Closed  Mapped   \n",
       "\n",
       "                         Location  \n",
       "18  (28.431808841, -81.308531359)  \n",
       "28  (28.532106547, -81.467537572)  \n",
       "36  (28.548002548, -81.413740652)  \n",
       "39   (28.43245109, -81.233032639)  \n",
       "46  (28.537144516, -81.332768003)  "
      ]
     },
     "execution_count": 15,
     "metadata": {},
     "output_type": "execute_result"
    }
   ],
   "source": [
    "data2017.head()"
   ]
  },
  {
   "cell_type": "code",
   "execution_count": null,
   "metadata": {},
   "outputs": [],
   "source": [
    " #test = data2017[:100]"
   ]
  },
  {
   "cell_type": "code",
   "execution_count": null,
   "metadata": {},
   "outputs": [],
   "source": []
  },
  {
   "cell_type": "code",
   "execution_count": 16,
   "metadata": {},
   "outputs": [
    {
     "data": {
      "text/plain": [
       "Theft            11568\n",
       "Burglary          2342\n",
       "Assault           2172\n",
       "Narcotics         1638\n",
       "Fraud             1301\n",
       "Vehicle Theft     1237\n",
       "Robbery            570\n",
       "Homicide            22\n",
       "Arson               20\n",
       "Kidnapping           8\n",
       "Embezzlement         4\n",
       "Name: Case Offense Category, dtype: int64"
      ]
     },
     "execution_count": 16,
     "metadata": {},
     "output_type": "execute_result"
    }
   ],
   "source": [
    "data2017['Case Offense Category'].value_counts()"
   ]
  },
  {
   "cell_type": "code",
   "execution_count": null,
   "metadata": {},
   "outputs": [],
   "source": []
  },
  {
   "cell_type": "code",
   "execution_count": null,
   "metadata": {},
   "outputs": [],
   "source": []
  },
  {
   "cell_type": "code",
   "execution_count": null,
   "metadata": {},
   "outputs": [],
   "source": []
  },
  {
   "cell_type": "code",
   "execution_count": null,
   "metadata": {},
   "outputs": [],
   "source": []
  },
  {
   "cell_type": "code",
   "execution_count": null,
   "metadata": {},
   "outputs": [],
   "source": [
    "#txtCase = np.unique(test['Case Offense Category'].values)\n",
    "# df ={}\n",
    "# for x in txtCase:\n",
    "#     bPick = test['Case Offense Category'].values == x\n",
    "#     df[x] = test[bPick]\n",
    "       "
   ]
  },
  {
   "cell_type": "markdown",
   "metadata": {},
   "source": [
    "### Functions"
   ]
  },
  {
   "cell_type": "code",
   "execution_count": 17,
   "metadata": {},
   "outputs": [],
   "source": [
    "def DatFrameCat(df: pd.DataFrame, col_name: str, values_nm: [str] ) -> pd.DataFrame:\n",
    "    '''\n",
    "    Return a data frame based on search of values name on a particular column.\n",
    "    df: pass in data frame\n",
    "    col_name: column name\n",
    "    values_nm: values list use to search on column name\n",
    "    '''    \n",
    "    bSelect = df[col_name].isin(values_nm)\n",
    "    ret = df[bSelect]\n",
    "    \n",
    "    return ret\n",
    "\n"
   ]
  },
  {
   "cell_type": "code",
   "execution_count": 18,
   "metadata": {},
   "outputs": [],
   "source": [
    "def DrawHeatMap(layer_location) -> gmaps.figure:\n",
    "    try:\n",
    "        heatmap = gmaps.figure()\n",
    "        heatlayer = gmaps.heatmap_layer(layer_location)\n",
    "        heatmap.add_layer(heatlayer)\n",
    "        return heatmap\n",
    "    except:\n",
    "        pass"
   ]
  },
  {
   "cell_type": "code",
   "execution_count": null,
   "metadata": {},
   "outputs": [],
   "source": []
  },
  {
   "cell_type": "markdown",
   "metadata": {},
   "source": [
    "#### Categorize crime types"
   ]
  },
  {
   "cell_type": "code",
   "execution_count": 19,
   "metadata": {},
   "outputs": [
    {
     "data": {
      "text/plain": [
       "Theft       11568\n",
       "Burglary     2342\n",
       "Robbery       570\n",
       "Name: Case Offense Category, dtype: int64"
      ]
     },
     "execution_count": 19,
     "metadata": {},
     "output_type": "execute_result"
    }
   ],
   "source": [
    "# Larceny = 'Theft','Burglary','Robbery'\n",
    "Larceny = DatFrameCat(data2017, 'Case Offense Category',['Theft', 'Burglary', 'Robbery'] )\n",
    "Larceny['Case Offense Category'].value_counts()"
   ]
  },
  {
   "cell_type": "code",
   "execution_count": 20,
   "metadata": {},
   "outputs": [
    {
     "data": {
      "text/plain": [
       "Assault    2172\n",
       "Name: Case Offense Category, dtype: int64"
      ]
     },
     "execution_count": 20,
     "metadata": {},
     "output_type": "execute_result"
    }
   ],
   "source": [
    "# Assault\n",
    "Assault = DatFrameCat(data2017, 'Case Offense Category',['Assault'])\n",
    "Assault['Case Offense Category'].value_counts()\n"
   ]
  },
  {
   "cell_type": "code",
   "execution_count": 21,
   "metadata": {},
   "outputs": [
    {
     "data": {
      "text/plain": [
       "Narcotics    1638\n",
       "Name: Case Offense Category, dtype: int64"
      ]
     },
     "execution_count": 21,
     "metadata": {},
     "output_type": "execute_result"
    }
   ],
   "source": [
    "# Narcotics\n",
    "Narcotics = DatFrameCat(data2017, 'Case Offense Category',['Narcotics'])\n",
    "Narcotics['Case Offense Category'].value_counts()\n"
   ]
  },
  {
   "cell_type": "code",
   "execution_count": null,
   "metadata": {},
   "outputs": [],
   "source": []
  },
  {
   "cell_type": "code",
   "execution_count": 22,
   "metadata": {},
   "outputs": [
    {
     "data": {
      "text/plain": [
       "Fraud           1301\n",
       "Embezzlement       4\n",
       "Name: Case Offense Category, dtype: int64"
      ]
     },
     "execution_count": 22,
     "metadata": {},
     "output_type": "execute_result"
    }
   ],
   "source": [
    "# Fraud = 'Fraud', 'Embezzlement'\n",
    "Frauds = DatFrameCat(data2017, 'Case Offense Category',['Fraud', 'Embezzlement', 'Bribery'])\n",
    "Frauds['Case Offense Category'].value_counts()\n"
   ]
  },
  {
   "cell_type": "code",
   "execution_count": 23,
   "metadata": {},
   "outputs": [
    {
     "data": {
      "text/plain": [
       "Vehicle Theft    1237\n",
       "Name: Case Offense Category, dtype: int64"
      ]
     },
     "execution_count": 23,
     "metadata": {},
     "output_type": "execute_result"
    }
   ],
   "source": [
    "# Vehicle Theft\n",
    "VThefts  = DatFrameCat(data2017, 'Case Offense Category',['Vehicle Theft'])\n",
    "VThefts['Case Offense Category'].value_counts()\n"
   ]
  },
  {
   "cell_type": "code",
   "execution_count": 24,
   "metadata": {},
   "outputs": [
    {
     "data": {
      "text/plain": [
       "Homicide    22\n",
       "Name: Case Offense Category, dtype: int64"
      ]
     },
     "execution_count": 24,
     "metadata": {},
     "output_type": "execute_result"
    }
   ],
   "source": [
    "# Homicide\n",
    "Homicide  = DatFrameCat(data2017, 'Case Offense Category',['Homicide'])\n",
    "Homicide['Case Offense Category'].value_counts()\n",
    "\n"
   ]
  },
  {
   "cell_type": "code",
   "execution_count": 25,
   "metadata": {},
   "outputs": [
    {
     "data": {
      "text/plain": [
       "Arson    20\n",
       "Name: Case Offense Category, dtype: int64"
      ]
     },
     "execution_count": 25,
     "metadata": {},
     "output_type": "execute_result"
    }
   ],
   "source": [
    "# Arson\n",
    "Arson  = DatFrameCat(data2017, 'Case Offense Category',['Arson'])\n",
    "Arson['Case Offense Category'].value_counts()\n"
   ]
  },
  {
   "cell_type": "code",
   "execution_count": 26,
   "metadata": {},
   "outputs": [
    {
     "data": {
      "text/plain": [
       "Kidnapping    8\n",
       "Name: Case Offense Category, dtype: int64"
      ]
     },
     "execution_count": 26,
     "metadata": {},
     "output_type": "execute_result"
    }
   ],
   "source": [
    "# Kidnapping\n",
    "Kidnapping  = DatFrameCat(data2017, 'Case Offense Category',['Kidnapping'])\n",
    "Kidnapping['Case Offense Category'].value_counts()\n",
    "\n"
   ]
  },
  {
   "cell_type": "code",
   "execution_count": null,
   "metadata": {},
   "outputs": [],
   "source": []
  },
  {
   "cell_type": "code",
   "execution_count": null,
   "metadata": {},
   "outputs": [],
   "source": []
  },
  {
   "cell_type": "code",
   "execution_count": null,
   "metadata": {},
   "outputs": [],
   "source": []
  },
  {
   "cell_type": "code",
   "execution_count": null,
   "metadata": {},
   "outputs": [],
   "source": [
    "# map1 = gmaps.figure()\n",
    "# layer1 = gmaps.symbol_layer(Larceny['GPS-Location'], fill_color='#7FFF00', stroke_color='#7FFF00')\n",
    "# layer2 = gmaps.symbol_layer(Assault['GPS-Location'], fill_color='#00FFFF', stroke_color='#00FFFF')\n",
    "# layer3 = gmaps.symbol_layer(Narcotics['GPS-Location'], fill_color='#00008B', stroke_color='#00008B')\n",
    "# layer4 = gmaps.symbol_layer(Fraud['GPS-Location'], fill_color='#006400', stroke_color='#006400')\n",
    "\n",
    "# map1.add_layer(layer1)\n",
    "# map1.add_layer(layer2)\n",
    "# map1.add_layer(layer3)\n",
    "# map1.add_layer(layer4)\n",
    "\n",
    "# map1"
   ]
  },
  {
   "cell_type": "markdown",
   "metadata": {},
   "source": [
    "## Heat Maps"
   ]
  },
  {
   "cell_type": "markdown",
   "metadata": {},
   "source": [
    "### Orlando Crime:  All Crimes 2017"
   ]
  },
  {
   "cell_type": "code",
   "execution_count": 27,
   "metadata": {},
   "outputs": [
    {
     "data": {
      "application/vnd.jupyter.widget-view+json": {
       "model_id": "8fac9c18cd0948a4a3b04dfda8ee4dae",
       "version_major": 2,
       "version_minor": 0
      },
      "text/plain": [
       "Figure(layout=FigureLayout(height='420px'))"
      ]
     },
     "metadata": {},
     "output_type": "display_data"
    }
   ],
   "source": [
    "All2017heatmap = DrawHeatMap(data2017['Location'])\n",
    "All2017heatmap"
   ]
  },
  {
   "cell_type": "markdown",
   "metadata": {},
   "source": [
    "### Orlando Crimes:  Larceny (Theft, Burglary, Robbery) 2017"
   ]
  },
  {
   "cell_type": "code",
   "execution_count": null,
   "metadata": {},
   "outputs": [],
   "source": [
    "LarcenyMap = DrawHeatMap(Larceny['Location'])\n",
    "LarcenyMap"
   ]
  },
  {
   "cell_type": "code",
   "execution_count": null,
   "metadata": {},
   "outputs": [],
   "source": []
  },
  {
   "cell_type": "code",
   "execution_count": null,
   "metadata": {},
   "outputs": [],
   "source": []
  },
  {
   "cell_type": "markdown",
   "metadata": {},
   "source": [
    "### Orlando Crime: Assaults in 2017"
   ]
  },
  {
   "cell_type": "code",
   "execution_count": 28,
   "metadata": {},
   "outputs": [
    {
     "data": {
      "application/vnd.jupyter.widget-view+json": {
       "model_id": "29bf5e1bbe8f482a9a557cb59782e3fd",
       "version_major": 2,
       "version_minor": 0
      },
      "text/plain": [
       "Figure(layout=FigureLayout(height='420px'))"
      ]
     },
     "metadata": {},
     "output_type": "display_data"
    }
   ],
   "source": [
    "AssaultMap = DrawHeatMap(Assault['Location'])\n",
    "AssaultMap"
   ]
  },
  {
   "cell_type": "code",
   "execution_count": null,
   "metadata": {},
   "outputs": [],
   "source": [
    "\n"
   ]
  },
  {
   "cell_type": "markdown",
   "metadata": {},
   "source": [
    "### Orlando Crime: Frauds in 2017"
   ]
  },
  {
   "cell_type": "code",
   "execution_count": 29,
   "metadata": {},
   "outputs": [
    {
     "data": {
      "application/vnd.jupyter.widget-view+json": {
       "model_id": "3cb736c2179e4a7d872957d138849831",
       "version_major": 2,
       "version_minor": 0
      },
      "text/plain": [
       "Figure(layout=FigureLayout(height='420px'))"
      ]
     },
     "metadata": {},
     "output_type": "display_data"
    }
   ],
   "source": [
    "FMap = DrawHeatMap(Frauds['Location'])\n",
    "FMap"
   ]
  },
  {
   "cell_type": "code",
   "execution_count": null,
   "metadata": {},
   "outputs": [],
   "source": []
  },
  {
   "cell_type": "markdown",
   "metadata": {},
   "source": [
    "### Orlando Crime: Vehicle Theft in 2017"
   ]
  },
  {
   "cell_type": "code",
   "execution_count": 30,
   "metadata": {},
   "outputs": [
    {
     "data": {
      "application/vnd.jupyter.widget-view+json": {
       "model_id": "6cd881b6cb4f46789d833dd624426fcb",
       "version_major": 2,
       "version_minor": 0
      },
      "text/plain": [
       "Figure(layout=FigureLayout(height='420px'))"
      ]
     },
     "metadata": {},
     "output_type": "display_data"
    }
   ],
   "source": [
    "VTheftmap = DrawHeatMap(VThefts['Location'])\n",
    "VTheftmap"
   ]
  },
  {
   "cell_type": "code",
   "execution_count": null,
   "metadata": {},
   "outputs": [],
   "source": []
  },
  {
   "cell_type": "markdown",
   "metadata": {},
   "source": [
    "### Orlando Crime: Homicide in 2017"
   ]
  },
  {
   "cell_type": "code",
   "execution_count": 31,
   "metadata": {},
   "outputs": [
    {
     "data": {
      "application/vnd.jupyter.widget-view+json": {
       "model_id": "9b2ba8b35e3147fcb9415bd82f3eedcd",
       "version_major": 2,
       "version_minor": 0
      },
      "text/plain": [
       "Figure(layout=FigureLayout(height='420px'))"
      ]
     },
     "metadata": {},
     "output_type": "display_data"
    }
   ],
   "source": [
    "Hmap = DrawHeatMap(Homicide['Location'])\n",
    "Hmap"
   ]
  },
  {
   "cell_type": "code",
   "execution_count": null,
   "metadata": {},
   "outputs": [],
   "source": []
  },
  {
   "cell_type": "markdown",
   "metadata": {},
   "source": [
    "### Graphs"
   ]
  },
  {
   "cell_type": "code",
   "execution_count": 43,
   "metadata": {},
   "outputs": [
    {
     "data": {
      "text/plain": [
       "Text(0, 0.5, 'Crimes')"
      ]
     },
     "execution_count": 43,
     "metadata": {},
     "output_type": "execute_result"
    },
    {
     "data": {
      "image/png": "[encoded data removed]",
      "text/plain": [
       "<Figure size 432x288 with 1 Axes>"
      ]
     },
     "metadata": {
      "needs_background": "light"
     },
     "output_type": "display_data"
    }
   ],
   "source": [
    "# Hours that were reported for the crimes, not actual hours when crimes were committed\n",
    "plt.hist(data2017['Case Date Time'].dt.hour, edgecolor='black', bins=24)\n",
    "\n",
    "plt.title('A Day in Crimes')\n",
    "plt.xlabel('Hours')\n",
    "plt.ylabel('Crimes')"
   ]
  },
  {
   "cell_type": "code",
   "execution_count": null,
   "metadata": {},
   "outputs": [],
   "source": []
  },
  {
   "cell_type": "code",
   "execution_count": null,
   "metadata": {},
   "outputs": [],
   "source": []
  }
 ],
 "metadata": {
  "kernelspec": {
   "display_name": "Python 3",
   "language": "python",
   "name": "python3"
  },
  "language_info": {
   "codemirror_mode": {
    "name": "ipython",
    "version": 3
   },
   "file_extension": ".py",
   "mimetype": "text/x-python",
   "name": "python",
   "nbconvert_exporter": "python",
   "pygments_lexer": "ipython3",
   "version": "3.7.5"
  }
 },
 "nbformat": 4,
 "nbformat_minor": 4
}
